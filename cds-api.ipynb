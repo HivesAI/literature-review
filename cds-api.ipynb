{
 "cells": [
  {
   "cell_type": "markdown",
   "metadata": {},
   "source": [
    "# Climate Data Store API\n",
    "\n",
    "This notebook contains the research done on [Copernicus](https://cds.climate.copernicus.eu/)"
   ]
  },
  {
   "cell_type": "markdown",
   "metadata": {
    "vscode": {
     "languageId": "plaintext"
    }
   },
   "source": [
    "### Setup\n",
    "\n",
    "Follow the guide found [here](https://cds.climate.copernicus.eu/how-to-api)\n",
    "\n",
    "For the sake of simplicity, the API token can be stored in the `.env` file"
   ]
  },
  {
   "cell_type": "code",
   "execution_count": 26,
   "metadata": {},
   "outputs": [
    {
     "ename": "NameError",
     "evalue": "name 'yaml' is not defined",
     "output_type": "error",
     "traceback": [
      "\u001b[0;31m---------------------------------------------------------------------------\u001b[0m",
      "\u001b[0;31mNameError\u001b[0m                                 Traceback (most recent call last)",
      "Cell \u001b[0;32mIn[26], line 4\u001b[0m\n\u001b[1;32m      1\u001b[0m \u001b[38;5;28;01mimport\u001b[39;00m \u001b[38;5;21;01mcdsapi\u001b[39;00m\n\u001b[1;32m      3\u001b[0m \u001b[38;5;28;01mwith\u001b[39;00m \u001b[38;5;28mopen\u001b[39m(\u001b[38;5;124m'\u001b[39m\u001b[38;5;124m./.env\u001b[39m\u001b[38;5;124m'\u001b[39m, \u001b[38;5;124m'\u001b[39m\u001b[38;5;124mr\u001b[39m\u001b[38;5;124m'\u001b[39m) \u001b[38;5;28;01mas\u001b[39;00m f:\n\u001b[0;32m----> 4\u001b[0m         credentials \u001b[38;5;241m=\u001b[39m \u001b[43myaml\u001b[49m\u001b[38;5;241m.\u001b[39msafe_load(f)\n\u001b[1;32m      5\u001b[0m c \u001b[38;5;241m=\u001b[39m cdsapi\u001b[38;5;241m.\u001b[39mClient(url\u001b[38;5;241m=\u001b[39mcredentials[\u001b[38;5;124m'\u001b[39m\u001b[38;5;124mCDS_URL\u001b[39m\u001b[38;5;124m'\u001b[39m], key\u001b[38;5;241m=\u001b[39mcredentials[\u001b[38;5;124m'\u001b[39m\u001b[38;5;124mCDS_TOKEN\u001b[39m\u001b[38;5;124m'\u001b[39m])\n",
      "\u001b[0;31mNameError\u001b[0m: name 'yaml' is not defined"
     ]
    }
   ],
   "source": [
    "import cdsapi\n",
    "\n",
    "with open('./.env', 'r') as f:\n",
    "        credentials = yaml.safe_load(f)\n",
    "c = cdsapi.Client(url=credentials['CDS_URL'], key=credentials['CDS_TOKEN'])"
   ]
  },
  {
   "cell_type": "markdown",
   "metadata": {},
   "source": [
    "\n",
    "Once the CDS API client is installed, it can be used to request data from the datasets listed in the CDS, ADS, ECDS and CEMS Early Warning DS catalogues.\n",
    "\n",
    "One must agree to the Terms of Use of a dataset before downloading any data out of it. This step must be done manually from the dataset page (at the bottom of the download form).\n",
    "\n",
    "At the bottom of each dataset download form, press the \"Show API request code\" button to display a Python code snippet that can be used to run the manually built request. The API call must have this syntax:\n",
    "\n",
    "For example, tropospheric humidity data can be downloaded from [this link](https://cds.climate.copernicus.eu/datasets/satellite-humidity-profiles?tab=overview)"
   ]
  },
  {
   "cell_type": "markdown",
   "metadata": {},
   "source": [
    "## Data Download\n",
    "\n",
    "The following code creates the request to send using Copernicus"
   ]
  },
  {
   "cell_type": "code",
   "execution_count": 17,
   "metadata": {},
   "outputs": [
    {
     "name": "stdout",
     "output_type": "stream",
     "text": [
      "{'origin': 'cmorph', 'region': 'quasi_global', 'variable': ['temperature', 'precipitation'], 'time_aggregation': 'daily', 'horizontal_aggregation': ['0_5_x_0_5'], 'year': [2020, 2021], 'version': ['v1_0']}\n"
     ]
    }
   ],
   "source": [
    "class DatasetRequest:\n",
    "    def __init__(self):\n",
    "        self.request = {\n",
    "            \"origin\": None,\n",
    "            \"region\": None,\n",
    "            \"variable\": None,\n",
    "            \"time_aggregation\": None,\n",
    "            \"horizontal_aggregation\": None,\n",
    "            \"product_type\": None,\n",
    "            \"year\": None,\n",
    "            \"month\": None,\n",
    "            \"version\": None\n",
    "        }\n",
    "\n",
    "    def set_origin(self, origin):\n",
    "        \"\"\"Set the origin of the dataset (e.g., 'cmorph').\"\"\"\n",
    "        self.request[\"origin\"] = origin\n",
    "        return self\n",
    "\n",
    "    def set_region(self, region):\n",
    "        \"\"\"Set the region of interest (e.g., 'quasi_global').\"\"\"\n",
    "        self.request[\"region\"] = region\n",
    "        return self\n",
    "\n",
    "    def set_variable(self, variable_list):\n",
    "        \"\"\"Set the variable(s) to be requested (e.g., ['temperature', 'precipitation']).\"\"\"\n",
    "        self.request[\"variable\"] = variable_list\n",
    "        return self\n",
    "\n",
    "    def set_time_aggregation(self, time_aggregation):\n",
    "        \"\"\"Set the time aggregation method (e.g., 'daily').\"\"\"\n",
    "        self.request[\"time_aggregation\"] = time_aggregation\n",
    "        return self\n",
    "\n",
    "    def set_horizontal_aggregation(self, horizontal_aggregation):\n",
    "        \"\"\"Set the horizontal aggregation (e.g., ['0_5_x_0_5']).\"\"\"\n",
    "        if isinstance(horizontal_aggregation, list):\n",
    "            self.request[\"horizontal_aggregation\"] = horizontal_aggregation\n",
    "        return self\n",
    "    \n",
    "    def set_product_type(self, product_type):\n",
    "        \"\"\"Set the product type\"\"\"\n",
    "        self.request[\"product_type\"] = product_type\n",
    "        return self\n",
    "\n",
    "    def set_year(self, years):\n",
    "        \"\"\"Set the year(s) of interest (e.g., a list of years).\"\"\"\n",
    "        if isinstance(years, list):\n",
    "            self.request[\"year\"] = years\n",
    "        return self\n",
    "    \n",
    "    def set_month(self, months):\n",
    "        \"\"\"Set the month(s) of interest\"\"\"\n",
    "        if isinstance(months, list):\n",
    "            self.request[\"month\"] = months\n",
    "        return self\n",
    "\n",
    "    def set_version(self, version):\n",
    "        \"\"\"Set the version (e.g., ['v1_0']).\"\"\"\n",
    "        if isinstance(version, list):\n",
    "            self.request[\"version\"] = version\n",
    "        return self\n",
    "\n",
    "    def build_request(self):\n",
    "        \"\"\"Build the final request dictionary.\"\"\"\n",
    "        # Return only the fields that are set\n",
    "        return {key: value for key, value in self.request.items() if value is not None}\n",
    "\n",
    "\n",
    "# Example \n",
    "request = (DatasetRequest()\n",
    "           .set_origin(\"cmorph\")\n",
    "           .set_region(\"quasi_global\")\n",
    "           .set_variable([\"temperature\", \"precipitation\"])\n",
    "           .set_time_aggregation(\"daily\")\n",
    "           .set_horizontal_aggregation([\"0_5_x_0_5\"])\n",
    "           .set_year([2020, 2021])\n",
    "           .set_version([\"v1_0\"])\n",
    "           .build_request())\n",
    "\n",
    "print(request)"
   ]
  },
  {
   "cell_type": "markdown",
   "metadata": {},
   "source": [
    "### Tropospheric Humidity Dataset Summary\n",
    "\n",
    "---\n",
    "\n",
    "This dataset provides **monthly and zonally averaged tropospheric humidity profiles** derived from **GPS radio occultation (RO) measurements** from EUMETSAT’s Metop satellites. Humidity is critical to the Earth’s climate system, affecting the greenhouse effect, energy transport, cloud formation, and precipitation patterns.\n",
    "\n",
    "#### **Key Features:**\n",
    "- **Data Source:** EUMETSAT Radio Occultation Meteorology Satellite Application Facility (ROM SAF).\n",
    "- **Types of Data:**\n",
    "  - **Climate Data Record (CDR):** December 2006 - December 2016.\n",
    "  - **Interim Climate Data Record (ICDR):** January 2017 - present.\n",
    "- **Variables:**\n",
    "  - **Specific Humidity:** Measured in g/kg, representing the mass of water vapor in air.\n",
    "  - **Associated Variables:** Standard deviation, observation counts, sampling errors, model information fraction.\n",
    "  \n",
    "#### **Spatial and Temporal Coverage:**\n",
    "- **Horizontal Resolution:** 5° latitude bands (global zonal means).\n",
    "- **Vertical Resolution:** 0-12 km altitude (troposphere), with 0.2 km vertical intervals.\n",
    "- **Temporal Coverage:** From 2006 to present.\n",
    "- **Temporal Resolution:** Monthly.\n",
    "  \n",
    "#### **Data Format:**\n",
    "- **File Format:** NetCDF-3.\n",
    "- **Update Frequency:** Quarterly updates.\n",
    "\n",
    "---\n",
    "\n",
    "This dataset offers high vertical resolution humidity profiles, which are not influenced by cloud cover or surface type, making it ideal for climate analysis."
   ]
  },
  {
   "cell_type": "code",
   "execution_count": 24,
   "metadata": {},
   "outputs": [
    {
     "name": "stdout",
     "output_type": "stream",
     "text": [
      "{'variable': 'all', 'product_type': 'radio_occultation_data', 'year': ['2023'], 'month': ['01', '02', '03', '04', '05', '06', '07', '08', '09', '10', '11', '12']}\n"
     ]
    },
    {
     "name": "stderr",
     "output_type": "stream",
     "text": [
      "2024-10-02 21:54:13,102 INFO [2024-09-28T00:00:00] **Welcome to the New Climate Data Store (CDS)!** This new system is in its early days of full operations and still undergoing enhancements and fine tuning. Some disruptions are to be expected. Your \n",
      "[feedback](https://jira.ecmwf.int/plugins/servlet/desk/portal/1/create/202) is key to improve the user experience on the new CDS for the benefit of everyone. Thank you.\n",
      "2024-10-02 21:54:13,103 WARNING [2024-09-26T00:00:00] Should you have not yet migrated from the old CDS system to the new CDS, please check our [informative page](https://confluence.ecmwf.int/x/uINmFw) for guidance.\n",
      "2024-10-02 21:54:13,103 INFO [2024-09-26T00:00:00] Watch our [Forum](https://forum.ecmwf.int/) for Announcements, news and other discussed topics.\n",
      "2024-10-02 21:54:13,104 INFO [2024-09-16T00:00:00] Remember that you need to have an ECMWF account to use the new CDS. **Your old CDS credentials will not work in new CDS!**\n",
      "2024-10-02 21:54:13,104 WARNING [2024-06-16T00:00:00] CDS API syntax is changed and some keys or parameter names may have also changed. To avoid requests failing, please use the \"Show API request code\" tool on the dataset Download Form to check you are using the correct syntax for your API request.\n",
      "2024-10-02 21:54:13,346 INFO Request ID is 032e68ef-5c14-4dbd-81e1-8a1d15f61a8e\n",
      "2024-10-02 21:54:13,461 INFO status has been updated to accepted\n",
      "2024-10-02 21:54:15,102 INFO status has been updated to running\n",
      "2024-10-02 21:54:17,453 INFO status has been updated to successful\n",
      "                                                                                          \r"
     ]
    },
    {
     "data": {
      "text/plain": [
       "'humidity-data.nc'"
      ]
     },
     "execution_count": 24,
     "metadata": {},
     "output_type": "execute_result"
    }
   ],
   "source": [
    "  \n",
    "humidity = \"satellite-humidity-profiles\"\n",
    "\n",
    "humidity_request = (DatasetRequest()\n",
    "           .set_variable(\"all\")\n",
    "           .set_year([\"2023\"])\n",
    "           .set_product_type(\"radio_occultation_data\")\n",
    "           .set_month([\"01\", \"02\", \"03\", \"04\", \"05\", \"06\", \"07\", \"08\", \"09\", \"10\", \"11\", \"12\"])\n",
    "           .build_request())\n",
    "print(humidity_request)\n",
    "\n",
    "humidity_file = \"humidity-data.nc\"\n",
    "\n",
    "client.retrieve(humidity, humidity_request, humidity_file)\n",
    "\n",
    "\n"
   ]
  },
  {
   "cell_type": "markdown",
   "metadata": {},
   "source": [
    "### Temperature and Precipitation\n",
    "\n",
    "---\n",
    "\n",
    "This dataset provides **high-resolution gridded temperature and precipitation observations** from various sources, designed for analysis of weather extremes and climate trends. The data are available at both **daily and monthly frequencies** and are regularly updated to incorporate recent observations.\n",
    "\n",
    "#### **Key Features:**\n",
    "- **Data Sources:** GISTEMP, Berkeley Earth, CPC, CPC-CONUS, CHIRPS, IMERG, CMORPH, GPCC, CRU.\n",
    "- **Variables:** \n",
    "  - **Precipitation:** Measured in mm/day or mm/month.\n",
    "  - **Temperature:** Air temperature at 2 meters above the surface (°C).\n",
    "  - **Temperature Anomaly:** Deviations from the 1950-1980 climatology (°C).\n",
    "- **Horizontal Coverage:** Varies by model (global, quasi-global, Africa, CONUS).\n",
    "- **Horizontal Resolution:** Varies (0.1° x 0.1°, 0.25° x 0.25°, etc.).\n",
    "- **Temporal Resolution:** Daily and monthly.\n",
    "- **File Format:** NetCDF-4.\n",
    "- **Projection:** Regular latitude-longitude grid.\n",
    "\n",
    "#### **Applications:**\n",
    "- **Climate Trend Analysis**\n",
    "- **Weather Extremes**\n",
    "- **Seasonal Drought Monitoring**\n",
    "- **Rapid Response to Recent Phenomena**\n",
    "\n",
    "#### **Data Sources:**\n",
    "1. **GISTEMP-v4:** NASA's temperature analysis combining global historical data with sea surface temperatures.\n",
    "2. **BERKEARTH:** Temperature records from 16 archives.\n",
    "3. **CPC/CPC-CONUS:** Unified precipitation products using optimal interpolation.\n",
    "4. **CHIRPS-v2:** Gridded rainfall time series for Africa.\n",
    "5. **IMERG:** NASA’s satellite-based global precipitation estimates.\n",
    "6. **CMORPH:** NOAA's precipitation estimates from microwave and geostationary IR data.\n",
    "7. **GPCC:** Global precipitation climatology from long-term station records.\n",
    "8. **CRU v4:** Gridded temperature and precipitation data based on station measurements.\n",
    "\n",
    "#### **File Conventions:**\n",
    "- **NetCDF-4** file format.\n",
    "- **Metadata Conventions:** Climate and Forecast (CF) v1.6, ACDD v1.3.\n",
    "\n",
    "---\n",
    "\n",
    "This summary can be a quick reference to understand the scope and key features of the dataset."
   ]
  },
  {
   "cell_type": "code",
   "execution_count": 25,
   "metadata": {},
   "outputs": [
    {
     "name": "stdout",
     "output_type": "stream",
     "text": [
      "{'origin': 'cmorph', 'region': 'quasi_global', 'variable': ['temperature', 'precipitation'], 'time_aggregation': 'daily', 'horizontal_aggregation': ['0_5_x_0_5'], 'year': ['2020', '2021'], 'version': ['v1_0']}\n"
     ]
    },
    {
     "name": "stderr",
     "output_type": "stream",
     "text": [
      "2024-10-02 21:56:34,149 INFO [2024-09-28T00:00:00] **Welcome to the New Climate Data Store (CDS)!** This new system is in its early days of full operations and still undergoing enhancements and fine tuning. Some disruptions are to be expected. Your \n",
      "[feedback](https://jira.ecmwf.int/plugins/servlet/desk/portal/1/create/202) is key to improve the user experience on the new CDS for the benefit of everyone. Thank you.\n",
      "2024-10-02 21:56:34,150 WARNING [2024-09-26T00:00:00] Should you have not yet migrated from the old CDS system to the new CDS, please check our [informative page](https://confluence.ecmwf.int/x/uINmFw) for guidance.\n",
      "2024-10-02 21:56:34,150 INFO [2024-09-26T00:00:00] Watch our [Forum](https://forum.ecmwf.int/) for Announcements, news and other discussed topics.\n",
      "2024-10-02 21:56:34,151 INFO [2024-09-16T00:00:00] Remember that you need to have an ECMWF account to use the new CDS. **Your old CDS credentials will not work in new CDS!**\n",
      "2024-10-02 21:56:34,152 WARNING [2024-06-16T00:00:00] CDS API syntax is changed and some keys or parameter names may have also changed. To avoid requests failing, please use the \"Show API request code\" tool on the dataset Download Form to check you are using the correct syntax for your API request.\n"
     ]
    }
   ],
   "source": [
    "\n",
    "dataset = \"insitu-gridded-observations-global-and-regional\"\n",
    "request = (DatasetRequest()\n",
    "           .set_origin(\"cmorph\")\n",
    "           .set_region(\"quasi_global\")\n",
    "           .set_variable([\"temperature\", \"precipitation\"])\n",
    "           .set_time_aggregation(\"daily\")\n",
    "           .set_horizontal_aggregation([\"0_5_x_0_5\"])\n",
    "           .set_year([\"2020\", \"2021\"])\n",
    "           .set_version([\"v1_0\"])\n",
    "           .build_request())\n",
    "print(request)\n",
    "\n",
    "# request = {\n",
    "#     \"origin\": \"cmorph\",\n",
    "#     \"region\": \"quasi_global\",\n",
    "#     \"variable\": [\n",
    "#         \"temperature\",\n",
    "#         \"precipitation\"\n",
    "#     ],\n",
    "#     \"time_aggregation\": \"daily\",\n",
    "#     \"horizontal_aggregation\": [\"0_5_x_0_5\"],\n",
    "#     \"year\": years,\n",
    "#     \"version\": [\"v1_0\"]\n",
    "# }\n",
    "# target = \"temperature-precipitation.nc\"\n",
    "\n",
    "client = cdsapi.Client()\n",
    "client.retrieve(dataset, request).download()"
   ]
  },
  {
   "cell_type": "code",
   "execution_count": null,
   "metadata": {},
   "outputs": [],
   "source": []
  }
 ],
 "metadata": {
  "kernelspec": {
   "display_name": "ai-challenge",
   "language": "python",
   "name": "python3"
  },
  "language_info": {
   "codemirror_mode": {
    "name": "ipython",
    "version": 3
   },
   "file_extension": ".py",
   "mimetype": "text/x-python",
   "name": "python",
   "nbconvert_exporter": "python",
   "pygments_lexer": "ipython3",
   "version": "3.12.5"
  }
 },
 "nbformat": 4,
 "nbformat_minor": 2
}
