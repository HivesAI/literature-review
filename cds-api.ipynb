{
 "cells": [
  {
   "cell_type": "markdown",
   "metadata": {},
   "source": [
    "# Climate Data Store API\n",
    "\n",
    "This notebook contains the research done on [Copernicus](https://cds.climate.copernicus.eu/)"
   ]
  },
  {
   "cell_type": "markdown",
   "metadata": {
    "vscode": {
     "languageId": "plaintext"
    }
   },
   "source": [
    "### Setup\n",
    "\n",
    "Follow the guide found [here](https://cds.climate.copernicus.eu/how-to-api)\n"
   ]
  },
  {
   "cell_type": "markdown",
   "metadata": {},
   "source": [
    "\n",
    "Once the CDS API client is installed, it can be used to request data from the datasets listed in the CDS, ADS, ECDS and CEMS Early Warning DS catalogues.\n",
    "\n",
    "One must agree to the Terms of Use of a dataset before downloading any data out of it. This step must be done manually from the dataset page (at the bottom of the download form).\n",
    "\n",
    "At the bottom of each dataset download form, press the \"Show API request code\" button to display a Python code snippet that can be used to run the manually built request. The API call must have this syntax:\n",
    "\n",
    "For example, tropospheric humidity data can be downloaded from [this link](https://cds.climate.copernicus.eu/datasets/satellite-humidity-profiles?tab=overview)"
   ]
  },
  {
   "cell_type": "markdown",
   "metadata": {},
   "source": [
    "## Data Download\n",
    "\n",
    "The following code downloads humidity, wind, rain and temperature data using Copernicus"
   ]
  },
  {
   "cell_type": "markdown",
   "metadata": {},
   "source": [
    "### Tropospheric Humidity Dataset Summary\n",
    "\n",
    "---\n",
    "\n",
    "This dataset provides **monthly and zonally averaged tropospheric humidity profiles** derived from **GPS radio occultation (RO) measurements** from EUMETSAT’s Metop satellites. Humidity is critical to the Earth’s climate system, affecting the greenhouse effect, energy transport, cloud formation, and precipitation patterns.\n",
    "\n",
    "#### **Key Features:**\n",
    "- **Data Source:** EUMETSAT Radio Occultation Meteorology Satellite Application Facility (ROM SAF).\n",
    "- **Types of Data:**\n",
    "  - **Climate Data Record (CDR):** December 2006 - December 2016.\n",
    "  - **Interim Climate Data Record (ICDR):** January 2017 - present.\n",
    "- **Variables:**\n",
    "  - **Specific Humidity:** Measured in g/kg, representing the mass of water vapor in air.\n",
    "  - **Associated Variables:** Standard deviation, observation counts, sampling errors, model information fraction.\n",
    "  \n",
    "#### **Spatial and Temporal Coverage:**\n",
    "- **Horizontal Resolution:** 5° latitude bands (global zonal means).\n",
    "- **Vertical Resolution:** 0-12 km altitude (troposphere), with 0.2 km vertical intervals.\n",
    "- **Temporal Coverage:** From 2006 to present.\n",
    "- **Temporal Resolution:** Monthly.\n",
    "  \n",
    "#### **Data Format:**\n",
    "- **File Format:** NetCDF-3.\n",
    "- **Update Frequency:** Quarterly updates.\n",
    "\n",
    "---\n",
    "\n",
    "This dataset offers high vertical resolution humidity profiles, which are not influenced by cloud cover or surface type, making it ideal for climate analysis."
   ]
  },
  {
   "cell_type": "code",
   "execution_count": 10,
   "metadata": {},
   "outputs": [
    {
     "name": "stderr",
     "output_type": "stream",
     "text": [
      "2024-10-02 17:10:21,714 INFO [2024-09-28T00:00:00] **Welcome to the New Climate Data Store (CDS)!** This new system is in its early days of full operations and still undergoing enhancements and fine tuning. Some disruptions are to be expected. Your \n",
      "[feedback](https://jira.ecmwf.int/plugins/servlet/desk/portal/1/create/202) is key to improve the user experience on the new CDS for the benefit of everyone. Thank you.\n",
      "2024-10-02 17:10:21,714 WARNING [2024-09-26T00:00:00] Should you have not yet migrated from the old CDS system to the new CDS, please check our [informative page](https://confluence.ecmwf.int/x/uINmFw) for guidance.\n",
      "2024-10-02 17:10:21,715 INFO [2024-09-26T00:00:00] Watch our [Forum](https://forum.ecmwf.int/) for Announcements, news and other discussed topics.\n",
      "2024-10-02 17:10:21,715 INFO [2024-09-16T00:00:00] Remember that you need to have an ECMWF account to use the new CDS. **Your old CDS credentials will not work in new CDS!**\n",
      "2024-10-02 17:10:21,716 WARNING [2024-06-16T00:00:00] CDS API syntax is changed and some keys or parameter names may have also changed. To avoid requests failing, please use the \"Show API request code\" tool on the dataset Download Form to check you are using the correct syntax for your API request.\n",
      "2024-10-02 17:10:21,831 INFO Request ID is f1db60df-c822-4fe5-932e-b9be5f6e5b04\n",
      "2024-10-02 17:10:21,909 INFO status has been updated to accepted\n",
      "2024-10-02 17:10:23,457 INFO status has been updated to running\n",
      "2024-10-02 17:10:26,105 INFO status has been updated to successful\n",
      "                                                                                          \r"
     ]
    },
    {
     "data": {
      "text/plain": [
       "'humidity-data.nc'"
      ]
     },
     "execution_count": 10,
     "metadata": {},
     "output_type": "execute_result"
    }
   ],
   "source": [
    "import cdsapi\n",
    "  \n",
    "humidity = \"satellite-humidity-profiles\"\n",
    "humidity_request = {\n",
    "    \"variable\": \"all\",\n",
    "    \"product_type\": \"radio_occultation_data\",\n",
    "    \"year\": [\"2023\"],\n",
    "    \"month\": [\n",
    "        \"01\", \"02\", \"03\",\n",
    "        \"04\", \"05\", \"06\",\n",
    "        \"07\", \"08\", \"09\",\n",
    "        \"10\", \"11\", \"12\"\n",
    "    ]\n",
    "}\n",
    "humidity_file = \"humidity-data.nc\"\n",
    "\n",
    "client = cdsapi.Client()\n",
    "client.retrieve(humidity, humidity_request, humidity_file)\n",
    "\n",
    "\n"
   ]
  },
  {
   "cell_type": "markdown",
   "metadata": {},
   "source": [
    "### Temperature and Precipitation\n",
    "\n",
    "---\n",
    "\n",
    "This dataset provides **high-resolution gridded temperature and precipitation observations** from various sources, designed for analysis of weather extremes and climate trends. The data are available at both **daily and monthly frequencies** and are regularly updated to incorporate recent observations.\n",
    "\n",
    "#### **Key Features:**\n",
    "- **Data Sources:** GISTEMP, Berkeley Earth, CPC, CPC-CONUS, CHIRPS, IMERG, CMORPH, GPCC, CRU.\n",
    "- **Variables:** \n",
    "  - **Precipitation:** Measured in mm/day or mm/month.\n",
    "  - **Temperature:** Air temperature at 2 meters above the surface (°C).\n",
    "  - **Temperature Anomaly:** Deviations from the 1950-1980 climatology (°C).\n",
    "- **Horizontal Coverage:** Varies by model (global, quasi-global, Africa, CONUS).\n",
    "- **Horizontal Resolution:** Varies (0.1° x 0.1°, 0.25° x 0.25°, etc.).\n",
    "- **Temporal Resolution:** Daily and monthly.\n",
    "- **File Format:** NetCDF-4.\n",
    "- **Projection:** Regular latitude-longitude grid.\n",
    "\n",
    "#### **Applications:**\n",
    "- **Climate Trend Analysis**\n",
    "- **Weather Extremes**\n",
    "- **Seasonal Drought Monitoring**\n",
    "- **Rapid Response to Recent Phenomena**\n",
    "\n",
    "#### **Data Sources:**\n",
    "1. **GISTEMP-v4:** NASA's temperature analysis combining global historical data with sea surface temperatures.\n",
    "2. **BERKEARTH:** Temperature records from 16 archives.\n",
    "3. **CPC/CPC-CONUS:** Unified precipitation products using optimal interpolation.\n",
    "4. **CHIRPS-v2:** Gridded rainfall time series for Africa.\n",
    "5. **IMERG:** NASA’s satellite-based global precipitation estimates.\n",
    "6. **CMORPH:** NOAA's precipitation estimates from microwave and geostationary IR data.\n",
    "7. **GPCC:** Global precipitation climatology from long-term station records.\n",
    "8. **CRU v4:** Gridded temperature and precipitation data based on station measurements.\n",
    "\n",
    "#### **File Conventions:**\n",
    "- **NetCDF-4** file format.\n",
    "- **Metadata Conventions:** Climate and Forecast (CF) v1.6, ACDD v1.3.\n",
    "\n",
    "---\n",
    "\n",
    "This summary can be a quick reference to understand the scope and key features of the dataset."
   ]
  },
  {
   "cell_type": "code",
   "execution_count": 11,
   "metadata": {},
   "outputs": [
    {
     "name": "stderr",
     "output_type": "stream",
     "text": [
      "2024-10-02 17:22:58,500 INFO [2024-09-28T00:00:00] **Welcome to the New Climate Data Store (CDS)!** This new system is in its early days of full operations and still undergoing enhancements and fine tuning. Some disruptions are to be expected. Your \n",
      "[feedback](https://jira.ecmwf.int/plugins/servlet/desk/portal/1/create/202) is key to improve the user experience on the new CDS for the benefit of everyone. Thank you.\n",
      "2024-10-02 17:22:58,501 WARNING [2024-09-26T00:00:00] Should you have not yet migrated from the old CDS system to the new CDS, please check our [informative page](https://confluence.ecmwf.int/x/uINmFw) for guidance.\n",
      "2024-10-02 17:22:58,502 INFO [2024-09-26T00:00:00] Watch our [Forum](https://forum.ecmwf.int/) for Announcements, news and other discussed topics.\n",
      "2024-10-02 17:22:58,502 INFO [2024-09-16T00:00:00] Remember that you need to have an ECMWF account to use the new CDS. **Your old CDS credentials will not work in new CDS!**\n",
      "2024-10-02 17:22:58,502 WARNING [2024-06-16T00:00:00] CDS API syntax is changed and some keys or parameter names may have also changed. To avoid requests failing, please use the \"Show API request code\" tool on the dataset Download Form to check you are using the correct syntax for your API request.\n",
      "2024-10-02 17:22:58,641 INFO Request ID is c23a0d82-80ef-4c27-99ed-c25469955b17\n",
      "2024-10-02 17:22:58,683 INFO status has been updated to accepted\n",
      "2024-10-02 17:23:00,231 INFO status has been updated to running\n",
      "2024-10-02 17:23:11,413 INFO status has been updated to successful\n",
      "                                                                                         \r"
     ]
    },
    {
     "data": {
      "text/plain": [
       "'2c93497248b97b68aa8032d813dfa974.zip'"
      ]
     },
     "execution_count": 11,
     "metadata": {},
     "output_type": "execute_result"
    }
   ],
   "source": [
    "\n",
    "import cdsapi\n",
    "\n",
    "origins = []\n",
    "regions = []\n",
    "years = [\"2021\"]\n",
    "\n",
    "dataset = \"insitu-gridded-observations-global-and-regional\"\n",
    "request = {\n",
    "    \"origin\": \"cmorph\",\n",
    "    \"region\": \"quasi_global\",\n",
    "    \"variable\": [\n",
    "        \"temperature\",\n",
    "        \"precipitation\"\n",
    "    ],\n",
    "    \"time_aggregation\": \"daily\",\n",
    "    \"horizontal_aggregation\": [\"0_5_x_0_5\"],\n",
    "    \"year\": years,\n",
    "    \"version\": [\"v1_0\"]\n",
    "}\n",
    "target = \"temperature-precipitation.nc\"\n",
    "\n",
    "client = cdsapi.Client()\n",
    "client.retrieve(dataset, request, target)"
   ]
  },
  {
   "cell_type": "code",
   "execution_count": null,
   "metadata": {},
   "outputs": [],
   "source": []
  }
 ],
 "metadata": {
  "kernelspec": {
   "display_name": "ai-challenge",
   "language": "python",
   "name": "python3"
  },
  "language_info": {
   "codemirror_mode": {
    "name": "ipython",
    "version": 3
   },
   "file_extension": ".py",
   "mimetype": "text/x-python",
   "name": "python",
   "nbconvert_exporter": "python",
   "pygments_lexer": "ipython3",
   "version": "3.12.5"
  }
 },
 "nbformat": 4,
 "nbformat_minor": 2
}
