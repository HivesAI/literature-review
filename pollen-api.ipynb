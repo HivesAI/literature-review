{
 "cells": [
  {
   "cell_type": "markdown",
   "metadata": {},
   "source": [
    "# Pollen API\n",
    "This document contains research done on the [Pollen API](https://developers.google.com/maps/documentation/pollen/overview)"
   ]
  },
  {
   "cell_type": "markdown",
   "metadata": {},
   "source": [
    "The ***Pollen API***  lets you request pollen data for a specific location. Pollen data includes regional plant species and pollen types, as well as pollen index and health recommendations. The Pollen API covers over 65 countries with a resolution of 1 x 1 kilometer.\n",
    "\n",
    "The API provides endpoints that let you query:\n",
    "\n",
    "- Forecast: Up to 5-day pollen forecast with daily information, including pollen index for types of plants.\n",
    "\n",
    "- Heatmaps: Color-coded tiles of 3 pollen types.\n",
    "\n",
    "## Interesting feature of this API\n",
    "- The Pollen API continuously calculates the **value** of various **pollen types** and plant indices with **1 x 1 kilometer resolution**\n",
    "- **Health recommendations**, implemented at the plant type level according to the pollen index levell\n",
    "- **Plant description details**, information that relate to the plant and **its potential for allergenic effect**. The description includes the following information: type, family, season, special shapes, special colors, cross reaction, and 2 pictures of each plant.\n",
    "- **Heatmaps of pollen type index**, that can be displayed on Google Maps\n",
    "\n",
    "## Pollen API supported plants\n",
    "In Italy the plant types available are **trees, grass and weeds**. In particular, the supported plants are hazel, alder, ash, birch, cottonwood, oak, olive, pine, grasses, ragweed, mugwort.\n",
    "\n",
    "## Origin of the data\n",
    "As mentioned on google: \"Our Pollen API is based on a model that calculates the seasonality and daily amount of pollen grains on a 1x1 km2 grid in over 65 countries worldwide, supporting an up to 5-day forecast, 3 plant types, and 15 different plant species. The model uses various inputs like land cover, climatological data, annual pollen production per plant, and more to deliver reliable output predictions of the local pollen level and exposure risk.\"\n",
    "\n",
    "## Google Cloud Project\n",
    "\n",
    "To work with the Pollen API ou must set up a Google Cloud project, because it is part of the APIs of Google Maps Platform.\n",
    "\n",
    "1- Go to the [Google Cloud Console](https://console.cloud.google.com/), select your country, accept the Terms of Service and click on \"Agree and Continue\"  \n",
    "2- On the top left click on \"Select a project\", then click on New Project. Give it a name and your organization (if none select ***No organization***). Then click on Create.  \n",
    "3- Select the project you just created and on the menu on the left click on Billing. Click then on \"Link a Billing Account\" and \"Create a billing account\" \n",
    "4- On the screen that appears select your country, your account type (individual) and your \"name and address\". Insert then pyour payment method and then click on \"Start Free\".  \n",
    "\n",
    "Google Cloud offers a zero dollars charge trial. The trial expires at either end of 90 days or after the account has accrued 300 dollars worth of charges, whichever comes first.\n",
    "\n",
    "## How to use the API\n",
    "\n"
   ]
  }
 ],
 "metadata": {
  "kernelspec": {
   "display_name": "Python 3 (ipykernel)",
   "language": "python",
   "name": "python3"
  },
  "language_info": {
   "codemirror_mode": {
    "name": "ipython",
    "version": 3
   },
   "file_extension": ".py",
   "mimetype": "text/x-python",
   "name": "python",
   "nbconvert_exporter": "python",
   "pygments_lexer": "ipython3",
   "version": "3.12.6"
  }
 },
 "nbformat": 4,
 "nbformat_minor": 4
}
