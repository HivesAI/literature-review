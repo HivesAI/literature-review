{
 "cells": [
  {
   "cell_type": "markdown",
   "metadata": {},
   "source": [
    "# Pollen API\n",
    "This document contains research done on the [Pollen API](https://developers.google.com/maps/documentation/pollen/overview)"
   ]
  },
  {
   "cell_type": "markdown",
   "metadata": {},
   "source": [
    "The [***Pollen API***](https://www.youtube.com/watch?v=9jVTdxDEFxs)  lets you request pollen data for a specific location. Pollen data includes regional plant species and pollen types, as well as pollen index and health recommendations. The Pollen API covers over 65 countries with a resolution of 1 x 1 kilometer. [Here](https://storage.googleapis.com/gmp-maps-demos/pollen/index.html#intro) you can find a demo.\n",
    "\n",
    "The API provides endpoints that let you query:\n",
    "\n",
    "- Forecast: Up to 5-day pollen forecast with daily information, including pollen index for types of plants.\n",
    "\n",
    "- Heatmaps: Color-coded tiles of 3 pollen types.\n",
    "\n",
    "## Interesting feature of this API\n",
    "- The Pollen API continuously calculates the **value** of various **pollen types** and plant indices with **1 x 1 kilometer resolution**\n",
    "- **Health recommendations**, implemented at the plant type level according to the pollen index levell\n",
    "- **Plant description details**, information that relate to the plant and **its potential for allergenic effect**. The description includes the following information: type, family, season, special shapes, special colors, cross reaction, and 2 pictures of each plant.\n",
    "- **Heatmaps of pollen type index**, that can be displayed on Google Maps\n",
    "\n",
    "## Pollen API supported plants\n",
    "In Italy the plant types available are **trees, grass and weeds**. In particular, the supported plants are hazel, alder, ash, birch, cottonwood, oak, olive, pine, grasses, ragweed, mugwort.\n",
    "\n",
    "## Origin of the data\n",
    "As mentioned on google: \"Our Pollen API is based on a model that calculates the seasonality and daily amount of pollen grains on a 1x1 km2 grid in over 65 countries worldwide, supporting an up to 5-day forecast, 3 plant types, and 15 different plant species. The model uses various inputs like land cover, climatological data, annual pollen production per plant, and more to deliver reliable output predictions of the local pollen level and exposure risk.\"\n",
    "\n",
    "## Google Cloud Project\n",
    "\n",
    "To work with the Pollen API ou must set up a Google Cloud project, because it is part of the APIs of Google Maps Platform.\n",
    "\n",
    "1- Go to the [Google Cloud Console](https://console.cloud.google.com/), select your country, accept the Terms of Service and click on \"Agree and Continue\"  \n",
    "2- On the top left click on \"Select a project\", then click on New Project. Give it a name and your organization (if none select ***No organization***). Then click on Create.  \n",
    "3- Select the project you just created and on the menu on the left click on Billing. Click then on \"Link a Billing Account\" and \"Create a billing account\" \n",
    "4- On the screen that appears select your country, your account type (individual) and your \"name and address\". Insert then pyour payment method and then click on \"Start Free\".  \n",
    "\n",
    "Google Cloud offers a zero dollars charge trial. The trial expires at either end of 90 days or after the account has accrued 300 dollars worth of charges, whichever comes first.\n",
    "\n",
    "# How to use the API\n",
    "\n",
    "In order to use the Pollen API, you must enable it to use with your project.\n",
    "1- Open the left menu, and click on APIs & Services  \n",
    "2- Then click on \"Enable APIs and Services\". Search for Pollen API, click on it and then click on \"Enable\"  \n",
    "3- At this point you can choose between OAuth or API keys to use this API. We'll see the second method.\n",
    "\n",
    "### API Keys\n",
    "\n",
    "API keys are used by Google Maps Platform as a unique identifier that authenticates requests associated with the project. It is mandatory to have at least one API key associated with a project. To create a key:  \n",
    "1- Open the left menu and click on Credentials.  \n",
    "2- Then click on Create Credentials > API key. Save the key that appears on the screen.\n",
    "3- Click close. The API key is listed on the Credentials page under API keys.  \n",
    "\n",
    "Done! Then you must include an API key with every Pollen API request, i.e.  \n",
    "\n",
    "        https://pollen.googleapis.com/v1/forecast:lookup?key=YOUR_API_KEY \n"
   ]
  },
  {
   "cell_type": "markdown",
   "metadata": {},
   "source": [
    "## Get forecast\n",
    "\n",
    "The forecast endpoint provides up to 5 days of daily pollen information. You can control the following information that is shown to users:\n",
    "\n",
    "- Number of forecast days\n",
    "- Language code for translated fields\n",
    "- Response page size\n",
    "- Detailed information about a given area's plants and their allergenic potential\n",
    "\n",
    "#### Forecast responses\n",
    "\n",
    "The response body provides the region code of the requested coordinates and daily forecast information for each day requested. If you request information for more than one day, the response body also includes a token to retrieve the next page if the information does not fit within the requested page size.\n",
    "\n",
    "The response body also includes three objects:\n",
    "\n",
    "- **DayInfo** provides the date of the represented forecast, along with PollenTypeInfo and PlantInfo.\n",
    "\n",
    "- **PollenTypeInfo** provides the seasonality of available pollen types (GRASS, TREE, and WEED), pollen index, and associated health recommendations at the requested coordinates.\n",
    "\n",
    "- **PlantInfo** provides plant names and descriptions — including seasonality, appearance, and cross-reactions — at the requested coordinates.\n",
    "\n",
    "\n",
    "#### Example \n",
    "\n",
    "The following code shows how to construct a basic request for a forecast:lookup request. In this example, you set the location and number of days of pollen information.\n",
    "\n",
    "    curl -X GET \"https://pollen.googleapis.com/v1/forecast:lookup?key=YOUR_API_KEY&location.longitude=35.32&location.latitude=32.32&days=1\"\n",
    "\n",
    "\n",
    "\n"
   ]
  }
 ],
 "metadata": {
  "kernelspec": {
   "display_name": "Python 3 (ipykernel)",
   "language": "python",
   "name": "python3"
  },
  "language_info": {
   "codemirror_mode": {
    "name": "ipython",
    "version": 3
   },
   "file_extension": ".py",
   "mimetype": "text/x-python",
   "name": "python",
   "nbconvert_exporter": "python",
   "pygments_lexer": "ipython3",
   "version": "3.12.6"
  }
 },
 "nbformat": 4,
 "nbformat_minor": 4
}
